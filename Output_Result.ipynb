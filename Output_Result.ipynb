{
  "nbformat": 4,
  "nbformat_minor": 0,
  "metadata": {
    "colab": {
      "name": "Output_Result.ipynb",
      "provenance": []
    },
    "kernelspec": {
      "name": "python3",
      "display_name": "Python 3"
    },
    "language_info": {
      "name": "python"
    }
  },
  "cells": [
    {
      "cell_type": "markdown",
      "metadata": {
        "id": "NgqEwO2sOO8I"
      },
      "source": [
        "#Model 1 trained by algo 2"
      ]
    },
    {
      "cell_type": "markdown",
      "metadata": {
        "id": "cH0HmsLlOTzS"
      },
      "source": [
        "**#pgmy library is installed to work with graphical models**"
      ]
    },
    {
      "cell_type": "code",
      "metadata": {
        "colab": {
          "base_uri": "https://localhost:8080/"
        },
        "id": "fWTZUGLvOP7r",
        "outputId": "15241e14-ccd3-4795-aa36-1890d7e2d7c3"
      },
      "source": [
        "!pip install pgmpy\n",
        "!pip install pandas\n",
        "!pip install numpy"
      ],
      "execution_count": 1,
      "outputs": [
        {
          "output_type": "stream",
          "text": [
            "Collecting pgmpy\n",
            "\u001b[?25l  Downloading https://files.pythonhosted.org/packages/a3/0e/d9fadbfaa35e010c04d43acd3ae9fbefec98897dd7d61a6b7eb5a8b34072/pgmpy-0.1.14-py3-none-any.whl (331kB)\n",
            "\r\u001b[K     |█                               | 10kB 12.0MB/s eta 0:00:01\r\u001b[K     |██                              | 20kB 13.5MB/s eta 0:00:01\r\u001b[K     |███                             | 30kB 10.0MB/s eta 0:00:01\r\u001b[K     |████                            | 40kB 8.7MB/s eta 0:00:01\r\u001b[K     |█████                           | 51kB 5.5MB/s eta 0:00:01\r\u001b[K     |██████                          | 61kB 6.1MB/s eta 0:00:01\r\u001b[K     |███████                         | 71kB 6.2MB/s eta 0:00:01\r\u001b[K     |████████                        | 81kB 6.8MB/s eta 0:00:01\r\u001b[K     |█████████                       | 92kB 6.2MB/s eta 0:00:01\r\u001b[K     |█████████▉                      | 102kB 6.7MB/s eta 0:00:01\r\u001b[K     |██████████▉                     | 112kB 6.7MB/s eta 0:00:01\r\u001b[K     |███████████▉                    | 122kB 6.7MB/s eta 0:00:01\r\u001b[K     |████████████▉                   | 133kB 6.7MB/s eta 0:00:01\r\u001b[K     |█████████████▉                  | 143kB 6.7MB/s eta 0:00:01\r\u001b[K     |██████████████▉                 | 153kB 6.7MB/s eta 0:00:01\r\u001b[K     |███████████████▉                | 163kB 6.7MB/s eta 0:00:01\r\u001b[K     |████████████████▉               | 174kB 6.7MB/s eta 0:00:01\r\u001b[K     |█████████████████▉              | 184kB 6.7MB/s eta 0:00:01\r\u001b[K     |██████████████████▉             | 194kB 6.7MB/s eta 0:00:01\r\u001b[K     |███████████████████▊            | 204kB 6.7MB/s eta 0:00:01\r\u001b[K     |████████████████████▊           | 215kB 6.7MB/s eta 0:00:01\r\u001b[K     |█████████████████████▊          | 225kB 6.7MB/s eta 0:00:01\r\u001b[K     |██████████████████████▊         | 235kB 6.7MB/s eta 0:00:01\r\u001b[K     |███████████████████████▊        | 245kB 6.7MB/s eta 0:00:01\r\u001b[K     |████████████████████████▊       | 256kB 6.7MB/s eta 0:00:01\r\u001b[K     |█████████████████████████▊      | 266kB 6.7MB/s eta 0:00:01\r\u001b[K     |██████████████████████████▊     | 276kB 6.7MB/s eta 0:00:01\r\u001b[K     |███████████████████████████▊    | 286kB 6.7MB/s eta 0:00:01\r\u001b[K     |████████████████████████████▊   | 296kB 6.7MB/s eta 0:00:01\r\u001b[K     |█████████████████████████████▋  | 307kB 6.7MB/s eta 0:00:01\r\u001b[K     |██████████████████████████████▋ | 317kB 6.7MB/s eta 0:00:01\r\u001b[K     |███████████████████████████████▋| 327kB 6.7MB/s eta 0:00:01\r\u001b[K     |████████████████████████████████| 337kB 6.7MB/s \n",
            "\u001b[?25hRequirement already satisfied: torch in /usr/local/lib/python3.7/dist-packages (from pgmpy) (1.8.1+cu101)\n",
            "Requirement already satisfied: statsmodels in /usr/local/lib/python3.7/dist-packages (from pgmpy) (0.10.2)\n",
            "Requirement already satisfied: scipy in /usr/local/lib/python3.7/dist-packages (from pgmpy) (1.4.1)\n",
            "Requirement already satisfied: tqdm in /usr/local/lib/python3.7/dist-packages (from pgmpy) (4.41.1)\n",
            "Requirement already satisfied: joblib in /usr/local/lib/python3.7/dist-packages (from pgmpy) (1.0.1)\n",
            "Requirement already satisfied: pandas in /usr/local/lib/python3.7/dist-packages (from pgmpy) (1.1.5)\n",
            "Requirement already satisfied: pyparsing in /usr/local/lib/python3.7/dist-packages (from pgmpy) (2.4.7)\n",
            "Requirement already satisfied: networkx in /usr/local/lib/python3.7/dist-packages (from pgmpy) (2.5)\n",
            "Requirement already satisfied: numpy in /usr/local/lib/python3.7/dist-packages (from pgmpy) (1.19.5)\n",
            "Requirement already satisfied: scikit-learn in /usr/local/lib/python3.7/dist-packages (from pgmpy) (0.22.2.post1)\n",
            "Requirement already satisfied: typing-extensions in /usr/local/lib/python3.7/dist-packages (from torch->pgmpy) (3.7.4.3)\n",
            "Requirement already satisfied: patsy>=0.4.0 in /usr/local/lib/python3.7/dist-packages (from statsmodels->pgmpy) (0.5.1)\n",
            "Requirement already satisfied: pytz>=2017.2 in /usr/local/lib/python3.7/dist-packages (from pandas->pgmpy) (2018.9)\n",
            "Requirement already satisfied: python-dateutil>=2.7.3 in /usr/local/lib/python3.7/dist-packages (from pandas->pgmpy) (2.8.1)\n",
            "Requirement already satisfied: decorator>=4.3.0 in /usr/local/lib/python3.7/dist-packages (from networkx->pgmpy) (4.4.2)\n",
            "Requirement already satisfied: six in /usr/local/lib/python3.7/dist-packages (from patsy>=0.4.0->statsmodels->pgmpy) (1.15.0)\n",
            "Installing collected packages: pgmpy\n",
            "Successfully installed pgmpy-0.1.14\n",
            "Requirement already satisfied: pandas in /usr/local/lib/python3.7/dist-packages (1.1.5)\n",
            "Requirement already satisfied: pytz>=2017.2 in /usr/local/lib/python3.7/dist-packages (from pandas) (2018.9)\n",
            "Requirement already satisfied: python-dateutil>=2.7.3 in /usr/local/lib/python3.7/dist-packages (from pandas) (2.8.1)\n",
            "Requirement already satisfied: numpy>=1.15.4 in /usr/local/lib/python3.7/dist-packages (from pandas) (1.19.5)\n",
            "Requirement already satisfied: six>=1.5 in /usr/local/lib/python3.7/dist-packages (from python-dateutil>=2.7.3->pandas) (1.15.0)\n",
            "Requirement already satisfied: numpy in /usr/local/lib/python3.7/dist-packages (1.19.5)\n"
          ],
          "name": "stdout"
        }
      ]
    },
    {
      "cell_type": "markdown",
      "metadata": {
        "id": "JzBaDIO1WN5j"
      },
      "source": [
        "**#Model trained with the help of heart.csv file and it follows Algorithm 2**"
      ]
    },
    {
      "cell_type": "code",
      "metadata": {
        "id": "FSHCZt2YSxfL"
      },
      "source": [
        "import pandas as pd\n",
        "\n",
        "data = pd.read_csv(\"/content/heart.csv\")    #read dataset\n",
        "\n",
        "from pgmpy.models import BayesianModel\n",
        "from pgmpy.estimators import ParameterEstimator\n",
        "from pgmpy.estimators import MaximumLikelihoodEstimator\n",
        "from pgmpy.inference import VariableElimination\n",
        "\n",
        "\n",
        "# Defining the model structure. We can define the network by just passing a list of edges\"\n",
        "\n",
        "model = BayesianModel([('age', 'trestbps'), ('age', 'fbs'), ('sex', 'trestbps'),\n",
        "                       ('exang', 'trestbps'),('trestbps','target'),('fbs','target'),\n",
        "                      ('target','restecg'),('target','thalach'),('target','chol')])\n",
        "\n",
        "# EX : age -> trestbps -> target <- chol & age -> fbs -> target <- restecg\n",
        " \n"
      ],
      "execution_count": 13,
      "outputs": []
    },
    {
      "cell_type": "markdown",
      "metadata": {
        "id": "l7TyQRfFq-bU"
      },
      "source": [
        "**Maximum Likelihood Estimation**"
      ]
    },
    {
      "cell_type": "code",
      "metadata": {
        "id": "t64dNNXzrB8r"
      },
      "source": [
        "#According to MLE, we should fill the CPDs in such a way, that  P(data|model)  is maximal\n",
        "\n",
        "model.fit(data,estimator=MaximumLikelihoodEstimator)  \n",
        "\n",
        "#Variable Elimination\n",
        "\n",
        "HeartDiseasetest_infer=VariableElimination(model) "
      ],
      "execution_count": 14,
      "outputs": []
    },
    {
      "cell_type": "markdown",
      "metadata": {
        "id": "A80UhZirp4CI"
      },
      "source": [
        "####  **Predicting values from new data points**\n",
        "\n",
        "We need to query for the variable that we need to predict given all the other features. "
      ]
    },
    {
      "cell_type": "code",
      "metadata": {
        "id": "CtzMScrcqS8q",
        "outputId": "e06ee1cf-6a18-4a97-993f-08a3959010cf",
        "colab": {
          "base_uri": "https://localhost:8080/"
        }
      },
      "source": [
        "#query 1 -> it takes values of restecg and trestbps and predict the target probabbilty\n",
        "\n",
        "q1=HeartDiseasetest_infer.query(variables=['target'],evidence={'restecg':1,'trestbps':120}, joint=False)\n",
        "\n",
        "print(\"\\n\\nAs an example, the following is the marginal probability when restecg is set to 1 and trestbps is set to 120:\")\n",
        "print(q1['target'])\n",
        "\n",
        "# if probability of getting 0 in target is more than getting 1 then it will follow 'else' statement otherwise if statement\n",
        "\n",
        "if q1['target'].values[0] > q1['target'].values[1]:\n",
        "    print(\"You are not suffering from heart disease\")  \n",
        "else:\n",
        "    print(\"You are suffering from heart disease, please visit  doctor\")   "
      ],
      "execution_count": 17,
      "outputs": [
        {
          "output_type": "stream",
          "text": [
            "Finding Elimination Order: : 100%|██████████| 6/6 [00:00<00:00, 1541.93it/s]\n",
            "Eliminating: age: 100%|██████████| 6/6 [00:00<00:00, 112.52it/s]"
          ],
          "name": "stderr"
        },
        {
          "output_type": "stream",
          "text": [
            "\n",
            "\n",
            "As an example, the following is the marginal probability when restecg is set to 1 and trestbps is set to 120:\n",
            "+-----------+---------------+\n",
            "| target    |   phi(target) |\n",
            "+===========+===============+\n",
            "| target(0) |        0.2628 |\n",
            "+-----------+---------------+\n",
            "| target(1) |        0.7372 |\n",
            "+-----------+---------------+\n",
            "You are suffering from heart disease, please visit  doctor\n"
          ],
          "name": "stdout"
        },
        {
          "output_type": "stream",
          "text": [
            "\n"
          ],
          "name": "stderr"
        }
      ]
    },
    {
      "cell_type": "markdown",
      "metadata": {
        "id": "DKFbqm5yOmuS"
      },
      "source": [
        "#MODEL 2 trained by algo 1\n",
        "\n",
        "**Reading dataset \"environmental_factors_past_medical_records\" that will be used for implementing Algorithm 1** "
      ]
    },
    {
      "cell_type": "markdown",
      "metadata": {
        "id": "4V4_zu1DPHuA"
      },
      "source": [
        "#**We have created this dataset on our own. It contains the combined values of environmental factors and past medical records**"
      ]
    },
    {
      "cell_type": "code",
      "metadata": {
        "colab": {
          "base_uri": "https://localhost:8080/"
        },
        "id": "3KZiyCwjOlu-",
        "outputId": "61503b92-418f-424e-fdea-9408020c6d18"
      },
      "source": [
        "import pandas as pd\n",
        "\n",
        "#reading the dataset for algorithm 2:\n",
        "environmental_factors_past_medical_records = pd.read_csv(\"/content/environmental_factors_past_medical_records.csv\")\n",
        "print(environmental_factors_past_medical_records.head(5))"
      ],
      "execution_count": 20,
      "outputs": [
        {
          "output_type": "stream",
          "text": [
            "   Temperature  Humidity  Noise  ...  cholestrol  heart rate(BPM)  output\n",
            "0           22        20     66  ...         233              150       1\n",
            "1           22        26     66  ...         250              187       1\n",
            "2           22        26     66  ...         204              172       1\n",
            "3           22        20     67  ...         236              178       1\n",
            "4           22        23     67  ...         354              163       1\n",
            "\n",
            "[5 rows x 7 columns]\n"
          ],
          "name": "stdout"
        }
      ]
    },
    {
      "cell_type": "markdown",
      "metadata": {
        "id": "zSDbv9B5Psp3"
      },
      "source": [
        "Here we have created the DAG by exploiting the attribute dependence.Attribute output is dependent on Temperature Humidity and Noise and then a bayesian network is created by calling function Bayesian model prsent in pgmpy.models"
      ]
    },
    {
      "cell_type": "code",
      "metadata": {
        "colab": {
          "base_uri": "https://localhost:8080/"
        },
        "id": "sY0bvtUkPpGB",
        "outputId": "bfec8aea-d95b-4cdf-f18b-3edaa1224b05"
      },
      "source": [
        "from pgmpy.models import BayesianModel\n",
        "from pgmpy.estimators import MaximumLikelihoodEstimator\n",
        "from pgmpy.inference import VariableElimination\n",
        "\n",
        "#We know that the variables relate as follows:\n",
        "model = BayesianModel([('Temperature', 'output'), ('Humidity', 'output'), ('Noise', 'output')])\n",
        "\n",
        "# Learning CPDs using Maximum Likelihood Estimators(uses relative frequencies)\n",
        "# This calculate the CPD of each attribute of environmental_factors_past_medical_records dataset  \n",
        "model.fit(environmental_factors_past_medical_records, estimator=MaximumLikelihoodEstimator)\n",
        "\n",
        "#here, we are printing the probalities of distinct values of each attribute. \n",
        "print(model.get_cpds('Temperature'))\n",
        "print(model.get_cpds('Humidity'))\n",
        "print(model.get_cpds('Noise'))\n",
        "\n",
        "model.get_independencies()\n",
        "\n",
        "\n",
        "# Doing exact inference using Variable Elimination inference class\n",
        "# here we have made a inference object on which we can run the queries to get our results \n",
        "environmental_factors_past_medical_records_infer = VariableElimination(model)\n"
      ],
      "execution_count": 6,
      "outputs": [
        {
          "output_type": "stream",
          "text": [
            "+-----------------+----------+\n",
            "| Temperature(19) | 0.122449 |\n",
            "+-----------------+----------+\n",
            "| Temperature(20) | 0.346939 |\n",
            "+-----------------+----------+\n",
            "| Temperature(21) | 0.367347 |\n",
            "+-----------------+----------+\n",
            "| Temperature(22) | 0.163265 |\n",
            "+-----------------+----------+\n",
            "+---------------+-----------+\n",
            "| Humidity(20)  | 0.306122  |\n",
            "+---------------+-----------+\n",
            "| Humidity(21)  | 0.346939  |\n",
            "+---------------+-----------+\n",
            "| Humidity(22)  | 0.102041  |\n",
            "+---------------+-----------+\n",
            "| Humidity(23)  | 0.0612245 |\n",
            "+---------------+-----------+\n",
            "| Humidity(24)  | 0.0204082 |\n",
            "+---------------+-----------+\n",
            "| Humidity(26)  | 0.0612245 |\n",
            "+---------------+-----------+\n",
            "| Humidity(27)  | 0.0612245 |\n",
            "+---------------+-----------+\n",
            "| Humidity(33)  | 0.0204082 |\n",
            "+---------------+-----------+\n",
            "| Humidity(140) | 0.0204082 |\n",
            "+---------------+-----------+\n",
            "+-----------+-----------+\n",
            "| Noise(53) | 0.0204082 |\n",
            "+-----------+-----------+\n",
            "| Noise(54) | 0.0816327 |\n",
            "+-----------+-----------+\n",
            "| Noise(55) | 0.142857  |\n",
            "+-----------+-----------+\n",
            "| Noise(56) | 0.0816327 |\n",
            "+-----------+-----------+\n",
            "| Noise(57) | 0.0816327 |\n",
            "+-----------+-----------+\n",
            "| Noise(58) | 0.0612245 |\n",
            "+-----------+-----------+\n",
            "| Noise(59) | 0.0408163 |\n",
            "+-----------+-----------+\n",
            "| Noise(60) | 0.0408163 |\n",
            "+-----------+-----------+\n",
            "| Noise(64) | 0.0204082 |\n",
            "+-----------+-----------+\n",
            "| Noise(65) | 0.0816327 |\n",
            "+-----------+-----------+\n",
            "| Noise(66) | 0.163265  |\n",
            "+-----------+-----------+\n",
            "| Noise(67) | 0.122449  |\n",
            "+-----------+-----------+\n",
            "| Noise(68) | 0.0612245 |\n",
            "+-----------+-----------+\n"
          ],
          "name": "stdout"
        }
      ]
    },
    {
      "cell_type": "markdown",
      "metadata": {
        "id": "CyNQ3OSmR5Em"
      },
      "source": [
        "Here we are running the query method on the inference object cretaed "
      ]
    },
    {
      "cell_type": "code",
      "metadata": {
        "colab": {
          "base_uri": "https://localhost:8080/"
        },
        "id": "k_gr-Pp4RV2F",
        "outputId": "dba9bc52-aa4d-41ab-a5ef-9a8c480cbe14"
      },
      "source": [
        "# Computing the probability of some evidences like Temperature:22 Humidity:20 Noise:67 given the target class \n",
        "query_result = environmental_factors_past_medical_records_infer.query(variables=['output'], evidence={'Temperature': 22,'Humidity':20, 'Noise':67},joint=False)\n",
        "print(\"**************\")\n",
        "print(query_result['output'])"
      ],
      "execution_count": 7,
      "outputs": [
        {
          "output_type": "stream",
          "text": [
            "Finding Elimination Order: : : 0it [00:00, ?it/s]\n",
            "0it [00:00, ?it/s]"
          ],
          "name": "stderr"
        },
        {
          "output_type": "stream",
          "text": [
            "**************\n",
            "+-----------+---------------+\n",
            "| output    |   phi(output) |\n",
            "+===========+===============+\n",
            "| output(0) |        0.0000 |\n",
            "+-----------+---------------+\n",
            "| output(1) |        1.0000 |\n",
            "+-----------+---------------+\n"
          ],
          "name": "stdout"
        },
        {
          "output_type": "stream",
          "text": [
            "\n"
          ],
          "name": "stderr"
        }
      ]
    },
    {
      "cell_type": "markdown",
      "metadata": {
        "id": "qVoHwGigs2-H"
      },
      "source": [
        "# **FINAL OUTPUT FUNCTION**\n",
        "this function will output the result for particular value of feature 'restecg' and 'trestbps' passed by the patient same as previous example {in cell 17} [enter restecg as 1 and trestbps as 120] \n",
        "\n",
        "**This function will be called in last cell because model(Algo 2) will be triggered by the model (Algo 1)**\n"
      ]
    },
    {
      "cell_type": "code",
      "metadata": {
        "id": "ScTxo1H-Suh1"
      },
      "source": [
        "def call():\n",
        "    print(\"ENTER restecg\")\n",
        "    X=int(input())\n",
        "    print(\"ENTER trestbps\")\n",
        "    Y=int(input())\n",
        "\n",
        "    q1=HeartDiseasetest_infer.query(variables=['target'],evidence={'restecg':X,'trestbps':Y},joint=False)\n",
        "    print(q1['target'])\n",
        "\n",
        "# if probability of getting 0 in target is more than getting 1 then it will follow 'else' statement otherwise if statement\n",
        "\n",
        "    if q1['target'].values[0] > q1['target'].values[1]:\n",
        "        print(\"You are not suffering from heart disease\")  \n",
        "    else:\n",
        "        print(\"You are suffering from heart disease, please visit doctor\")     \n"
      ],
      "execution_count": 24,
      "outputs": []
    },
    {
      "cell_type": "markdown",
      "metadata": {
        "id": "HW6KzJ1TR3LV"
      },
      "source": [
        "**Based on the output of the query passed we will trigger the algorithm 2(by calling call() function, which is running on the cloud**"
      ]
    },
    {
      "cell_type": "markdown",
      "metadata": {
        "id": "-jswZm-4wa32"
      },
      "source": [
        "Dataset - When system ask you to enter restecg and trestbps then test the model with these values- \n",
        "\n",
        "(restecg, trestbps) -> (1, 130) and (2, 114)"
      ]
    },
    {
      "cell_type": "markdown",
      "metadata": {
        "id": "lsW0hKcBxRGA"
      },
      "source": [
        "**if probability of getting 0 in output is more than getting 1 then it will follow 'else' statement otherwise if statement and then \"call()\" function will be called**\n",
        "\n",
        "\n",
        "\n"
      ]
    },
    {
      "cell_type": "code",
      "metadata": {
        "colab": {
          "base_uri": "https://localhost:8080/"
        },
        "id": "8BUomEs-RX-s",
        "outputId": "7a3a792e-61af-4d4c-aeec-fe65762c1212"
      },
      "source": [
        "if query_result['output'].values[0] < query_result['output'].values[1]:\n",
        "    call()   \n",
        "else:\n",
        "    print(\"You are safe....\")    "
      ],
      "execution_count": 25,
      "outputs": [
        {
          "output_type": "stream",
          "text": [
            "ENTER restecg\n",
            "2\n",
            "ENTER trestbps\n",
            "114\n"
          ],
          "name": "stdout"
        },
        {
          "output_type": "stream",
          "text": [
            "Finding Elimination Order: : 100%|██████████| 6/6 [00:00<00:00, 606.73it/s]\n",
            "Eliminating: age: 100%|██████████| 6/6 [00:00<00:00, 169.13it/s]"
          ],
          "name": "stderr"
        },
        {
          "output_type": "stream",
          "text": [
            "+-----------+---------------+\n",
            "| target    |   phi(target) |\n",
            "+===========+===============+\n",
            "| target(0) |        0.9735 |\n",
            "+-----------+---------------+\n",
            "| target(1) |        0.0265 |\n",
            "+-----------+---------------+\n",
            "You are not suffering from heart disease\n"
          ],
          "name": "stdout"
        },
        {
          "output_type": "stream",
          "text": [
            "\n"
          ],
          "name": "stderr"
        }
      ]
    }
  ]
}